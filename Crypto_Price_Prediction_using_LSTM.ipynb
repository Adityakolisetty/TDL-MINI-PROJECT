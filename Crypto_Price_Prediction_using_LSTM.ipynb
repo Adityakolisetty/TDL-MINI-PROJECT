{
  "cells": [
    {
      "cell_type": "markdown",
      "source": [
        "# Prediction of Prices"
      ],
      "metadata": {
        "id": "mlmQ0wN-bkHd"
      },
      "id": "mlmQ0wN-bkHd"
    },
    {
      "cell_type": "code",
      "execution_count": null,
      "id": "9210565a",
      "metadata": {
        "execution": {
          "iopub.execute_input": "2024-01-12T22:36:06.641513Z",
          "iopub.status.busy": "2024-01-12T22:36:06.641136Z",
          "iopub.status.idle": "2024-01-12T22:36:19.576645Z",
          "shell.execute_reply": "2024-01-12T22:36:19.575591Z"
        },
        "papermill": {
          "duration": 12.943515,
          "end_time": "2024-01-12T22:36:19.579269",
          "exception": false,
          "start_time": "2024-01-12T22:36:06.635754",
          "status": "completed"
        },
        "tags": [],
        "id": "9210565a"
      },
      "outputs": [],
      "source": [
        "import os\n",
        "import pandas as pd\n",
        "import numpy as np\n",
        "import matplotlib.pyplot as plt\n",
        "\n",
        "from sklearn.linear_model import LinearRegression\n",
        "from sklearn.model_selection import train_test_split\n",
        "\n",
        "from tensorflow.keras.layers import Dense, LSTM\n",
        "from tensorflow.keras.metrics import MeanSquaredError\n",
        "from tensorflow.keras.models import Sequential\n",
        "import tensorflow as tf\n",
        "\n",
        "import os"
      ]
    },
    {
      "cell_type": "code",
      "source": [
        "# !git clone https://github.com/PriyangshuMazumder/tdlproj.git\n",
        "# !ls\n",
        "# %cd tdlproj\n",
        "# !rm -r .git\n",
        "# %cd .."
      ],
      "metadata": {
        "id": "3nUC3r9GCwk9"
      },
      "id": "3nUC3r9GCwk9",
      "execution_count": null,
      "outputs": []
    },
    {
      "cell_type": "code",
      "execution_count": null,
      "id": "732015c8",
      "metadata": {
        "execution": {
          "iopub.execute_input": "2024-01-12T22:36:19.588486Z",
          "iopub.status.busy": "2024-01-12T22:36:19.587888Z",
          "iopub.status.idle": "2024-01-12T22:36:19.631711Z",
          "shell.execute_reply": "2024-01-12T22:36:19.630527Z"
        },
        "papermill": {
          "duration": 0.050361,
          "end_time": "2024-01-12T22:36:19.633748",
          "exception": false,
          "start_time": "2024-01-12T22:36:19.583387",
          "status": "completed"
        },
        "tags": [],
        "colab": {
          "base_uri": "https://localhost:8080/"
        },
        "id": "732015c8",
        "outputId": "783264d8-3d77-4216-e371-f7d3c6caf923"
      },
      "outputs": [
        {
          "output_type": "stream",
          "name": "stdout",
          "text": [
            "/content/tdlproj/coin_EOS.csv\n",
            "/content/tdlproj/coin_Polkadot.csv\n",
            "/content/tdlproj/coin_USDCoin.csv\n",
            "/content/tdlproj/coin_Bitcoin.csv\n",
            "/content/tdlproj/coin_Litecoin.csv\n",
            "/content/tdlproj/coin_Cosmos.csv\n",
            "/content/tdlproj/coin_Iota.csv\n",
            "/content/tdlproj/coin_Uniswap.csv\n",
            "/content/tdlproj/coin_XRP.csv\n",
            "/content/tdlproj/coin_Dogecoin.csv\n",
            "/content/tdlproj/coin_ChainLink.csv\n",
            "/content/tdlproj/coin_Stellar.csv\n",
            "/content/tdlproj/coin_WrappedBitcoin.csv\n",
            "/content/tdlproj/coin_Aave.csv\n",
            "/content/tdlproj/coin_NEM.csv\n",
            "/content/tdlproj/coin_Tron.csv\n",
            "/content/tdlproj/coin_Cardano.csv\n",
            "/content/tdlproj/coin_BinanceCoin.csv\n",
            "/content/tdlproj/coin_CryptocomCoin.csv\n",
            "/content/tdlproj/coin_Tether.csv\n",
            "/content/tdlproj/coin_Solana.csv\n",
            "/content/tdlproj/coin_Monero.csv\n",
            "/content/tdlproj/coin_Ethereum.csv\n"
          ]
        }
      ],
      "source": [
        "for dirname, _, filenames in os.walk('/content/tdlproj'):\n",
        "    for filename in filenames:\n",
        "        print(os.path.join(dirname, filename))"
      ]
    },
    {
      "cell_type": "code",
      "execution_count": null,
      "id": "149ff75f",
      "metadata": {
        "execution": {
          "iopub.execute_input": "2024-01-12T22:36:19.642532Z",
          "iopub.status.busy": "2024-01-12T22:36:19.642222Z",
          "iopub.status.idle": "2024-01-12T22:36:20.175777Z",
          "shell.execute_reply": "2024-01-12T22:36:20.174530Z"
        },
        "papermill": {
          "duration": 0.540334,
          "end_time": "2024-01-12T22:36:20.177768",
          "exception": false,
          "start_time": "2024-01-12T22:36:19.637434",
          "status": "completed"
        },
        "tags": [],
        "id": "149ff75f"
      },
      "outputs": [],
      "source": [
        "pd.options.mode.chained_assignment = None\n",
        "pd.options.display.max_columns = 999 #Outputs more colums for dataframes\n",
        "\n",
        "base = \"/content/tdlproj\"\n",
        "datahistory = 60 #Amount of days for data history to use\n",
        "\n",
        "def coincount(data_drt):\n",
        "    #This counts the amount of coin files within the given directory.\n",
        "    coin__Count = 0\n",
        "    for cryptofile in os.listdir(data_drt):\n",
        "        if cryptofile.endswith(\".csv\"):  #It makes sure that only the csv files are being counted.\n",
        "            coin__Count += 1\n",
        "    return coin__Count"
      ]
    },
    {
      "cell_type": "code",
      "source": [
        "def get_max_min_data_lengths(data_drt):\n",
        "    #It finds min and max lengths of the data coin files.\n",
        "    lengthmax = 0\n",
        "    lengthmin = float(\"inf\")  #Actiavtes lengthmin to be infinity\n",
        "    for cryptofile in os.listdir(data_drt):\n",
        "        if cryptofile.endswith(\".csv\"):\n",
        "            fD = pd.read_csv(data_drt + \"/\" + cryptofile, parse_dates=['Date'])\n",
        "            lengthdata = fD.shape[0]\n",
        "            lengthmax = max(lengthmax, lengthdata)\n",
        "            lengthmin = min(lengthmin, lengthdata)\n",
        "    return lengthmax,lengthmin\n"
      ],
      "metadata": {
        "id": "1AN-RuRSKKQM"
      },
      "id": "1AN-RuRSKKQM",
      "execution_count": null,
      "outputs": []
    },
    {
      "cell_type": "code",
      "source": [
        "def read_process_coin_data(data_drt, indexCoin):\n",
        "    #It reads and processes a specific coin.\n",
        "    cryptofile = os.listdir(data_drt)[indexCoin]\n",
        "    fD = pd.read_csv(data_drt + \"/\" + cryptofile, parse_dates=['Date'])\n",
        "    symbolCoin = cryptofile[5:-4]\n",
        "    lengthdata = fD.shape[0]\n",
        "    pricesclosing = fD['closed'].values\n",
        "    return symbolCoin, lengthdata, pricesclosing"
      ],
      "metadata": {
        "id": "QLpDTJadJtvM"
      },
      "id": "QLpDTJadJtvM",
      "execution_count": null,
      "outputs": []
    },
    {
      "cell_type": "code",
      "source": [
        "def read_data(data_drt, datahistory):\n",
        "    #It reads and processes the cryptocurrency data.\n",
        "    coinNum = coin__Count(data_drt)\n",
        "    maxlengthdata = get_max_min_data_lengths(data_drt)  #length_min Discarded.\n",
        "    pricesclosingdata = np.zeros((coinNum, maxlengthdata))\n",
        "    coinlengthsdata = np.zeros(coinNum, dtype=int)\n",
        "\n",
        "\n",
        "    for indexCoin in range(coinNum):\n",
        "        symbolCoin, lengthdata, pricesclosing = read_process_coin_data(data_drt, indexCoin)\n",
        "        print(indexCoin, symbolCoin, lengthdata)\n",
        "        priceslosingdata[indexCoin, 0:lengthdata] = pricesclosing\n",
        "        coinlengthsdata[indexCoin] = lengthdata"
      ],
      "metadata": {
        "id": "6twmKzm6KPNX"
      },
      "id": "6twmKzm6KPNX",
      "execution_count": null,
      "outputs": []
    },
    {
      "cell_type": "code",
      "source": [
        "def read_data ():\n",
        "#Reading and processing all coin's data in the exact directory.\n",
        "\n",
        "    coinNum = 0\n",
        "    for name in os.listdir(base):\n",
        "        coinNum += 1 #This counts the amount of files with coins.\n",
        "\n",
        "    lengthmax, lengthmin = 0, 1000000 #Intiating along a big value.\n",
        "    for name in os.listdir(base):\n",
        "        fD = pd.read_csv(base + \"/\" + name, parse_dates=['Date'])\n",
        "        thelength = fD.shape[0]\n",
        "        if lengthmax < thelength:\n",
        "            lengthmax = thelength\n",
        "        if lengthmin > thelength:\n",
        "            lengthmin = thelength #Won't really be used but stored for some reference.\n",
        "\n",
        "    #Activates arrays to keep coins data\n",
        "    info = np.zeros ((coinNum, lengthmax))\n",
        "    Slength = np.zeros(coinNum, dtype = int)\n",
        "    i = 0\n",
        "    for name in os.listdir(base):\n",
        "        coinSymb = name[5:-4] #Extracting the symbol of the coin from the file name.\n",
        "        fD = pd.read_csv(base + \"/\" + name, parse_dates=['Date'])\n",
        "        print(fD.head())\n",
        "        thelength = fD.shape[0]\n",
        "\n",
        "        #Storing coin info.\n",
        "        Slength[i] = thelength\n",
        "        print (i, coinSymb, thelength)\n",
        "\n",
        "        info[i, 0:thelength] = fD['Close'].values\n",
        "        i += 1\n",
        "\n",
        "\n",
        "    return coinNum, Slength, info"
      ],
      "metadata": {
        "id": "72UY1xGAKS03"
      },
      "id": "72UY1xGAKS03",
      "execution_count": null,
      "outputs": []
    },
    {
      "cell_type": "code",
      "source": [
        "coinNum, Slength, info = read_data ()\n",
        "print (\"Coin amount: \", coinNum, \".\")"
      ],
      "metadata": {
        "colab": {
          "base_uri": "https://localhost:8080/"
        },
        "id": "Q3d1-A48KWn1",
        "outputId": "107dd6c1-5016-4b18-d248-fedbe3b69fb5"
      },
      "id": "Q3d1-A48KWn1",
      "execution_count": null,
      "outputs": [
        {
          "output_type": "stream",
          "name": "stdout",
          "text": [
            "0 EOS 1466\n",
            "1 Polkadot 320\n",
            "2 USDCoin 1002\n",
            "3 Bitcoin 2991\n",
            "4 Litecoin 2991\n",
            "5 Cosmos 845\n",
            "6 Iota 1484\n",
            "7 Uniswap 292\n",
            "8 XRP 2893\n",
            "9 Dogecoin 2760\n",
            "10 ChainLink 1385\n",
            "11 Stellar 2527\n",
            "12 WrappedBitcoin 888\n",
            "13 Aave 275\n",
            "14 NEM 2288\n",
            "15 Tron 1392\n",
            "16 Cardano 1374\n",
            "17 BinanceCoin 1442\n",
            "18 CryptocomCoin 935\n",
            "19 Tether 2318\n",
            "20 Solana 452\n",
            "21 Monero 2602\n",
            "22 Ethereum 2160\n",
            "Coin amount:  23 .\n"
          ]
        }
      ]
    },
    {
      "cell_type": "code",
      "source": [
        "info.shape"
      ],
      "metadata": {
        "colab": {
          "base_uri": "https://localhost:8080/"
        },
        "id": "75p-jxGjK8ju",
        "outputId": "fd88ee8b-8e61-4764-9806-039eaec1065b"
      },
      "id": "75p-jxGjK8ju",
      "execution_count": null,
      "outputs": [
        {
          "output_type": "execute_result",
          "data": {
            "text/plain": [
              "(23, 2991)"
            ]
          },
          "metadata": {},
          "execution_count": 26
        }
      ]
    },
    {
      "cell_type": "code",
      "execution_count": null,
      "id": "fc34c7f7",
      "metadata": {
        "execution": {
          "iopub.execute_input": "2024-01-12T22:36:20.186826Z",
          "iopub.status.busy": "2024-01-12T22:36:20.186185Z",
          "iopub.status.idle": "2024-01-12T22:36:20.194453Z",
          "shell.execute_reply": "2024-01-12T22:36:20.193707Z"
        },
        "papermill": {
          "duration": 0.014574,
          "end_time": "2024-01-12T22:36:20.196277",
          "exception": false,
          "start_time": "2024-01-12T22:36:20.181703",
          "status": "completed"
        },
        "tags": [],
        "id": "fc34c7f7",
        "colab": {
          "base_uri": "https://localhost:8080/"
        },
        "outputId": "4fd2b73a-3907-4730-8147-24f73c49bb59"
      },
      "outputs": [
        {
          "output_type": "execute_result",
          "data": {
            "text/plain": [
              "(array([4.93225008e-01, 2.87502827e+00, 9.70123944e-01, 6.84309998e+01,\n",
              "        1.15700996e+00, 1.64920313e+00, 1.10194662e-01, 1.93011859e+00,\n",
              "        2.81020999e-03, 8.72652017e-05, 1.31128997e-01, 1.35659997e-03,\n",
              "        3.39597862e+03, 2.77150844e+01, 8.57151026e-05, 1.42682996e-03,\n",
              "        1.85391009e-02, 9.98668000e-02, 1.21327179e-02, 6.06229007e-01,\n",
              "        5.15272785e-01, 2.23521993e-01, 4.34828997e-01]),\n",
              " array([2.10493756e+01, 4.50709118e+01, 7.39052133e-02, 6.34350269e+04,\n",
              "        3.85293769e+02, 2.77859465e+01, 5.25613548e+00, 4.12343876e+01,\n",
              "        3.37499979e+00, 6.84689715e-01, 5.20675676e+01, 8.94870402e-01,\n",
              "        6.00406012e+04, 6.04551403e+02, 1.84263432e+00, 2.19128163e-01,\n",
              "        2.29057348e+00, 6.75584211e+02, 2.34715552e-01, 5.99510968e-01,\n",
              "        5.53956875e+01, 4.83360090e+02, 4.16826622e+03]))"
            ]
          },
          "metadata": {},
          "execution_count": 27
        }
      ],
      "source": [
        "def data_scale(info, Slength):\n",
        "\n",
        "    coinNum = info.shape[0] #More cleaner name for the variable.\n",
        "    shift_info = np.zeros(coinNum)\n",
        "    factor_scale = np.zeros(coinNum)\n",
        "    #^^^ shift_info and factor_scale have descriptive name.\n",
        "\n",
        "    for i in range (coinNum):\n",
        "        valMax = info[i,:Slength[i]].max()\n",
        "        valMin = info[i, :Slength[i]].min()\n",
        "        #^^^ Clearing calculation ^^^\n",
        "        shift_info[i] = valMin #This stores the info of shift value of the info.\n",
        "        factor_scale[i] = valMax - valMin #Calculating the factor scale.\n",
        "\n",
        "        if factor_scale[i] == 0:\n",
        "            raise ValueError(\"Division by zero encountered during scaling.\")\n",
        "\n",
        "        info[i,0:Slength[i]] = (info[i,0:Slength[i]]-shift_info[i])/factor_scale[i]\n",
        "    return (shift_info, factor_scale) #Scaling the info and scale factor\n",
        "\n",
        "shift_info, factor_scale = data_scale (info, Slength)\n",
        "shift_info, factor_scale"
      ]
    },
    {
      "cell_type": "code",
      "execution_count": null,
      "id": "67b6d176",
      "metadata": {
        "execution": {
          "iopub.execute_input": "2024-01-12T22:36:20.204743Z",
          "iopub.status.busy": "2024-01-12T22:36:20.204474Z",
          "iopub.status.idle": "2024-01-12T22:36:20.276529Z",
          "shell.execute_reply": "2024-01-12T22:36:20.275293Z"
        },
        "papermill": {
          "duration": 0.079453,
          "end_time": "2024-01-12T22:36:20.279453",
          "exception": false,
          "start_time": "2024-01-12T22:36:20.200000",
          "status": "completed"
        },
        "tags": [],
        "colab": {
          "base_uri": "https://localhost:8080/"
        },
        "id": "67b6d176",
        "outputId": "efd433ea-f302-4e38-9fa0-fc397c8568b0"
      },
      "outputs": [
        {
          "output_type": "stream",
          "name": "stdout",
          "text": [
            "Approximately 6067 Sequence for validation.\n",
            "Approximately 2100 Sequence for testing.\n",
            "Approximately 27535 Sequence for training.\n"
          ]
        }
      ],
      "source": [
        "def sequence (info, Slength, begin, finish):\n",
        "\n",
        "    assert len(info) == len(Slength), \"Unmatched data length.\"\n",
        "\n",
        "    #Intiate blank lists to keep targets and sequences.\n",
        "    A = []\n",
        "    B = []\n",
        "\n",
        "    #It only crosses over the exact coins.\n",
        "    for j in range (begin, finish):\n",
        "        for i in range(datahistory, Slength[j]):\n",
        "            #Append input sequence and its compatible value target.\n",
        "            A.append(info[j, i-datahistory:i])\n",
        "            B.append(info[j, i])\n",
        "\n",
        "    #Numpy arrays returned to LSTM with proper shapes.\n",
        "    return np.array(A)[:, :, np.newaxis], np.array(B)\n",
        "\n",
        "\n",
        "#Creating the validation, training, and test sequence.\n",
        "X_val, Y_val = sequence(info, Slength, 18, 22)\n",
        "print (\"Approximately\", Y_val.shape[0], \"Sequence for validation.\")\n",
        "\n",
        "\n",
        "X_test, Y_test = sequence(info, Slength, 22, 23)\n",
        "print (\"Approximately\", Y_test.shape[0], \"Sequence for testing.\")\n",
        "\n",
        "\n",
        "X_train, Y_train = sequence(info, Slength, 0, 18)\n",
        "print (\"Approximately\", Y_train.shape[0], \"Sequence for training.\")"
      ]
    },
    {
      "cell_type": "code",
      "execution_count": null,
      "id": "0f5af1b0",
      "metadata": {
        "execution": {
          "iopub.execute_input": "2024-01-12T22:36:20.294978Z",
          "iopub.status.busy": "2024-01-12T22:36:20.294534Z",
          "iopub.status.idle": "2024-01-12T22:36:21.835476Z",
          "shell.execute_reply": "2024-01-12T22:36:21.834353Z"
        },
        "papermill": {
          "duration": 1.553063,
          "end_time": "2024-01-12T22:36:21.838986",
          "exception": false,
          "start_time": "2024-01-12T22:36:20.285923",
          "status": "completed"
        },
        "tags": [],
        "colab": {
          "base_uri": "https://localhost:8080/"
        },
        "id": "0f5af1b0",
        "outputId": "e271c739-0fa9-480a-e5fd-85f85536ca83"
      },
      "outputs": [
        {
          "output_type": "stream",
          "name": "stdout",
          "text": [
            "Model: \"sequential\"\n",
            "_________________________________________________________________\n",
            " Layer (type)                Output Shape              Param #   \n",
            "=================================================================\n",
            " lstm (LSTM)                 (None, 60, 130)           68640     \n",
            "                                                                 \n",
            " lstm_1 (LSTM)               (None, 70)                56280     \n",
            "                                                                 \n",
            " dense (Dense)               (None, 30)                2130      \n",
            "                                                                 \n",
            " dense_1 (Dense)             (None, 1)                 31        \n",
            "                                                                 \n",
            "=================================================================\n",
            "Total params: 127081 (496.41 KB)\n",
            "Trainable params: 127081 (496.41 KB)\n",
            "Non-trainable params: 0 (0.00 Byte)\n",
            "_________________________________________________________________\n"
          ]
        }
      ],
      "source": [
        "def lstm_model ():\n",
        "\n",
        "    model_lstm = tf.keras.Sequential()\n",
        "\n",
        "    #The beginning of this model with the first LSTM layer, with 130 units, giving back the sequences for a bigger model.\n",
        "    model_lstm.add(tf.keras.layers.LSTM(130, return_sequences=True, input_shape= (datahistory, 1)))\n",
        "\n",
        "    #Here is the second LSTM layer coming in with 70 units, however not giving or returning the sequences.\n",
        "    model_lstm.add(tf.keras.layers.LSTM(70, return_sequences=False))\n",
        "\n",
        "    #A layer dense made with 30 units for medial processing.\n",
        "    model_lstm.add(tf.keras.layers.Dense(30))\n",
        "\n",
        "    #Another dense layer with is the output layer with only 1 unit for prediction.\n",
        "    model_lstm.add(tf.keras.layers.Dense(1))\n",
        "\n",
        "    #For compiling the model and utilizing the adam optimizer, and mean squared error loss.\n",
        "    model_lstm.compile(optimizer='adam', loss='mean_squared_error')\n",
        "\n",
        "    #Time to sum up the model for an overview.\n",
        "    model_lstm.summary()\n",
        "\n",
        "    return model_lstm\n",
        "\n",
        "#Creating a specimen of LSTM model.\n",
        "model_lstm = lstm_model()"
      ]
    },
    {
      "cell_type": "code",
      "execution_count": null,
      "id": "c1e01323",
      "metadata": {
        "execution": {
          "iopub.execute_input": "2024-01-12T22:36:21.851928Z",
          "iopub.status.busy": "2024-01-12T22:36:21.851610Z",
          "iopub.status.idle": "2024-01-12T22:37:44.431144Z",
          "shell.execute_reply": "2024-01-12T22:37:44.430287Z"
        },
        "papermill": {
          "duration": 82.588607,
          "end_time": "2024-01-12T22:37:44.433277",
          "exception": false,
          "start_time": "2024-01-12T22:36:21.844670",
          "status": "completed"
        },
        "tags": [],
        "colab": {
          "base_uri": "https://localhost:8080/"
        },
        "id": "c1e01323",
        "outputId": "0da0109e-9043-474f-e5c7-fe02908cca26"
      },
      "outputs": [
        {
          "output_type": "stream",
          "name": "stdout",
          "text": [
            "Epoch 1/15\n",
            "431/431 [==============================] - 81s 188ms/step - loss: 9.6313e-04 - val_loss: 6.7010e-04\n",
            "Epoch 2/15\n",
            "431/431 [==============================] - 79s 183ms/step - loss: 5.6339e-04 - val_loss: 4.0586e-04\n",
            "Epoch 3/15\n",
            "431/431 [==============================] - 86s 199ms/step - loss: 5.3208e-04 - val_loss: 3.8205e-04\n",
            "Epoch 4/15\n",
            "431/431 [==============================] - 82s 190ms/step - loss: 5.0669e-04 - val_loss: 0.0016\n",
            "Epoch 5/15\n",
            "431/431 [==============================] - 91s 210ms/step - loss: 5.1576e-04 - val_loss: 4.7679e-04\n",
            "Epoch 6/15\n",
            "431/431 [==============================] - 91s 210ms/step - loss: 4.9852e-04 - val_loss: 3.6828e-04\n",
            "Epoch 7/15\n",
            "431/431 [==============================] - 88s 205ms/step - loss: 5.0382e-04 - val_loss: 3.8655e-04\n",
            "Epoch 8/15\n",
            "431/431 [==============================] - 82s 190ms/step - loss: 4.9224e-04 - val_loss: 3.7760e-04\n",
            "Epoch 9/15\n",
            "431/431 [==============================] - 85s 197ms/step - loss: 5.1190e-04 - val_loss: 3.7594e-04\n",
            "Epoch 10/15\n",
            "431/431 [==============================] - 82s 191ms/step - loss: 4.9696e-04 - val_loss: 3.6966e-04\n",
            "Epoch 11/15\n",
            "431/431 [==============================] - 83s 193ms/step - loss: 5.0044e-04 - val_loss: 4.3513e-04\n",
            "Epoch 12/15\n",
            "431/431 [==============================] - 81s 187ms/step - loss: 4.8297e-04 - val_loss: 3.6385e-04\n",
            "Epoch 13/15\n",
            "431/431 [==============================] - 82s 191ms/step - loss: 4.8203e-04 - val_loss: 9.7679e-04\n",
            "Epoch 14/15\n",
            "431/431 [==============================] - 80s 186ms/step - loss: 4.7800e-04 - val_loss: 3.9255e-04\n",
            "Epoch 15/15\n",
            "431/431 [==============================] - 82s 189ms/step - loss: 4.8096e-04 - val_loss: 3.7000e-04\n"
          ]
        }
      ],
      "source": [
        "#Model training process. It stores the training history for examination, indication of a validation set, adjusting batch size for optimization,\n",
        "#And epochs increased for the machine to have better learning.\n",
        "training = model_lstm.fit(X_train, Y_train, validation_data = (X_val, Y_val), batch_size=64, epochs=15)"
      ]
    },
    {
      "cell_type": "code",
      "execution_count": null,
      "id": "0a1ebe64",
      "metadata": {
        "execution": {
          "iopub.execute_input": "2024-01-12T22:37:44.691469Z",
          "iopub.status.busy": "2024-01-12T22:37:44.690703Z",
          "iopub.status.idle": "2024-01-12T22:37:44.990228Z",
          "shell.execute_reply": "2024-01-12T22:37:44.989289Z"
        },
        "papermill": {
          "duration": 0.406745,
          "end_time": "2024-01-12T22:37:44.992223",
          "exception": false,
          "start_time": "2024-01-12T22:37:44.585478",
          "status": "completed"
        },
        "tags": [],
        "id": "0a1ebe64",
        "colab": {
          "base_uri": "https://localhost:8080/",
          "height": 472
        },
        "outputId": "8e184452-a70f-481c-cfc8-47ee6c40d4ab"
      },
      "outputs": [
        {
          "output_type": "display_data",
          "data": {
            "text/plain": [
              "<Figure size 640x480 with 1 Axes>"
            ],
            "image/png": "[encoded data removed]"
          },
          "metadata": {}
        }
      ],
      "source": [
        "def stats_reveal (training):\n",
        "    plt.plot(training.history['loss'])\n",
        "    plt.plot(training.history['val_loss'])\n",
        "\n",
        "    plt.title(\"Model\")\n",
        "    plt.xlabel(\"Epoch\")\n",
        "    plt.ylabel(\"Loss Prediction\")\n",
        "    plt.legend([\"Training Loss\", \"Validation Loss\"])\n",
        "\n",
        "    plt.show()\n",
        "stats_reveal (training)"
      ]
    },
    {
      "cell_type": "code",
      "execution_count": null,
      "id": "096193a3",
      "metadata": {
        "execution": {
          "iopub.execute_input": "2024-01-12T22:37:45.202379Z",
          "iopub.status.busy": "2024-01-12T22:37:45.201622Z",
          "iopub.status.idle": "2024-01-12T22:37:46.579113Z",
          "shell.execute_reply": "2024-01-12T22:37:46.578165Z"
        },
        "papermill": {
          "duration": 1.48495,
          "end_time": "2024-01-12T22:37:46.581166",
          "exception": false,
          "start_time": "2024-01-12T22:37:45.096216",
          "status": "completed"
        },
        "tags": [],
        "id": "096193a3",
        "colab": {
          "base_uri": "https://localhost:8080/",
          "height": 559
        },
        "outputId": "fa2dc673-9683-4e1d-8dd7-2f87fc27ac4e"
      },
      "outputs": [
        {
          "output_type": "stream",
          "name": "stdout",
          "text": [
            "66/66 [==============================] - 5s 52ms/step\n",
            "RSME:  0.20397612967353018\n",
            "MAE: 0.12011099796970541\n",
            "MAPE: inf\n"
          ]
        },
        {
          "output_type": "stream",
          "name": "stderr",
          "text": [
            "<ipython-input-33-27ba785af1aa>:20: RuntimeWarning: divide by zero encountered in divide\n",
            "  mape = np.mean(np.abs((prognosis - Y_test) / Y_test)) * 100\n"
          ]
        },
        {
          "output_type": "display_data",
          "data": {
            "text/plain": [
              "<Figure size 640x480 with 1 Axes>"
            ],
            "image/png": "[encoded data removed]"
          },
          "metadata": {}
        }
      ],
      "source": [
        "prognosis = model_lstm.predict(X_test)\n",
        "\n",
        "plt.title(\"Model's prediction vs real prices\")\n",
        "\n",
        "rmse = np.sqrt(np.mean(((prognosis - Y_test) ** 2)))\n",
        "print(\"RSME: \", rmse)\n",
        "\n",
        "# Calculate Mean Absolute Error (MAE)\n",
        "mae = np.mean(np.abs(prognosis - Y_test))\n",
        "print(\"MAE:\", mae)\n",
        "\n",
        "# Calculate Mean Absolute Percentage Error (MAPE)\n",
        "mape = np.mean(np.abs((prognosis - Y_test) / Y_test)) * 100\n",
        "print(\"MAPE:\", mape)\n",
        "\n",
        "#Plots the prediction data.\n",
        "plt.plot(prognosis*factor_scale[20] + shift_info[20])\n",
        "\n",
        "#Plots the real data.\n",
        "plt.plot(Y_test*factor_scale[20] + shift_info[20])\n",
        "\n",
        "#Outputs the graph and legend.\n",
        "plt.legend([\"Predictions\",\"Real data\"])\n",
        "plt.show()"
      ]
    },
    {
      "cell_type": "code",
      "source": [
        "# Predicting ahead by 30 timesteps\n",
        "future_predictions = []\n",
        "\n",
        "# Initial input for prediction (last sequence in the test data)\n",
        "current_input = X_test[-1]\n",
        "\n",
        "for i in range(30):\n",
        "    # Reshape the input for the model\n",
        "    current_input = np.reshape(current_input, (1, current_input.shape[0], current_input.shape[1]))\n",
        "    # Predict the next timestep\n",
        "    next_prediction = model_lstm.predict(current_input)\n",
        "    # Append the prediction to the list of future predictions\n",
        "    future_predictions.append(next_prediction)\n",
        "    # Update the current input by removing the first timestep and appending the predicted one\n",
        "    current_input = np.concatenate((current_input[:,1:,:], next_prediction), axis=1)\n",
        "\n",
        "# Convert future predictions to numpy array\n",
        "future_predictions = np.array(future_predictions)\n",
        "\n",
        "# Plotting predictions\n",
        "plt.title(\"Model's prediction vs real prices\")\n",
        "\n",
        "# Plotting past predictions and real data\n",
        "plt.plot(prognosis*factor_scale[20] + shift_info[20])\n",
        "plt.plot(Y_test*factor_scale[20] + shift_info[20])\n",
        "\n",
        "# Plotting future predictions\n",
        "plt.plot(np.arange(len(Y_test), len(Y_test) + 30),\n",
        "         future_predictions[:, 0, 0]*factor_scale[20] + shift_info[20])\n",
        "\n",
        "# Updating x-axis\n",
        "plt.xticks(np.arange(0, len(Y_test) + 30, 20))\n",
        "\n",
        "# Adding legend\n",
        "plt.legend([\"Predictions\", \"Real data\", \"Future predictions\"])\n",
        "\n",
        "# Showing plot\n",
        "plt.show()\n"
      ],
      "metadata": {
        "colab": {
          "base_uri": "https://localhost:8080/",
          "height": 251
        },
        "id": "4zvYznFPKsTH",
        "outputId": "665489fc-c062-41bb-ac22-ae3808e4590c"
      },
      "id": "4zvYznFPKsTH",
      "execution_count": null,
      "outputs": [
        {
          "output_type": "stream",
          "name": "stdout",
          "text": [
            "1/1 [==============================] - 0s 36ms/step\n"
          ]
        },
        {
          "output_type": "error",
          "ename": "ValueError",
          "evalue": "all the input arrays must have same number of dimensions, but the array at index 0 has 3 dimension(s) and the array at index 1 has 2 dimension(s)",
          "traceback": [
            "\u001b[0;31m---------------------------------------------------------------------------\u001b[0m",
            "\u001b[0;31mValueError\u001b[0m                                Traceback (most recent call last)",
            "\u001b[0;32m<ipython-input-35-7cff488e5e16>\u001b[0m in \u001b[0;36m<cell line: 7>\u001b[0;34m()\u001b[0m\n\u001b[1;32m     13\u001b[0m     \u001b[0mfuture_predictions\u001b[0m\u001b[0;34m.\u001b[0m\u001b[0mappend\u001b[0m\u001b[0;34m(\u001b[0m\u001b[0mnext_prediction\u001b[0m\u001b[0;34m)\u001b[0m\u001b[0;34m\u001b[0m\u001b[0;34m\u001b[0m\u001b[0m\n\u001b[1;32m     14\u001b[0m     \u001b[0;31m# Update the current input by removing the first timestep and appending the predicted one\u001b[0m\u001b[0;34m\u001b[0m\u001b[0;34m\u001b[0m\u001b[0m\n\u001b[0;32m---> 15\u001b[0;31m     \u001b[0mcurrent_input\u001b[0m \u001b[0;34m=\u001b[0m \u001b[0mnp\u001b[0m\u001b[0;34m.\u001b[0m\u001b[0mconcatenate\u001b[0m\u001b[0;34m(\u001b[0m\u001b[0;34m(\u001b[0m\u001b[0mcurrent_input\u001b[0m\u001b[0;34m[\u001b[0m\u001b[0;34m:\u001b[0m\u001b[0;34m,\u001b[0m\u001b[0;36m1\u001b[0m\u001b[0;34m:\u001b[0m\u001b[0;34m,\u001b[0m\u001b[0;34m:\u001b[0m\u001b[0;34m]\u001b[0m\u001b[0;34m,\u001b[0m \u001b[0mnext_prediction\u001b[0m\u001b[0;34m)\u001b[0m\u001b[0;34m,\u001b[0m \u001b[0maxis\u001b[0m\u001b[0;34m=\u001b[0m\u001b[0;36m1\u001b[0m\u001b[0;34m)\u001b[0m\u001b[0;34m\u001b[0m\u001b[0;34m\u001b[0m\u001b[0m\n\u001b[0m\u001b[1;32m     16\u001b[0m \u001b[0;34m\u001b[0m\u001b[0m\n\u001b[1;32m     17\u001b[0m \u001b[0;31m# Convert future predictions to numpy array\u001b[0m\u001b[0;34m\u001b[0m\u001b[0;34m\u001b[0m\u001b[0m\n",
            "\u001b[0;31mValueError\u001b[0m: all the input arrays must have same number of dimensions, but the array at index 0 has 3 dimension(s) and the array at index 1 has 2 dimension(s)"
          ]
        }
      ]
    }
  ],
  "metadata": {
    "kaggle": {
      "accelerator": "gpu",
      "dataSources": [
        {
          "datasetId": 1869,
          "sourceId": 2402293,
          "sourceType": "datasetVersion"
        }
      ],
      "isGpuEnabled": true,
      "isInternetEnabled": true,
      "language": "python",
      "sourceType": "notebook"
    },
    "kernelspec": {
      "display_name": "Python 3",
      "language": "python",
      "name": "python3"
    },
    "language_info": {
      "codemirror_mode": {
        "name": "ipython",
        "version": 3
      },
      "file_extension": ".py",
      "mimetype": "text/x-python",
      "name": "python",
      "nbconvert_exporter": "python",
      "pygments_lexer": "ipython3",
      "version": "3.10.12"
    },
    "papermill": {
      "default_parameters": {},
      "duration": 106.505594,
      "end_time": "2024-01-12T22:37:49.827109",
      "environment_variables": {},
      "exception": null,
      "input_path": "__notebook__.ipynb",
      "output_path": "__notebook__.ipynb",
      "parameters": {},
      "start_time": "2024-01-12T22:36:03.321515",
      "version": "2.3.3"
    },
    "colab": {
      "provenance": []
    }
  },
  "nbformat": 4,
  "nbformat_minor": 5
}